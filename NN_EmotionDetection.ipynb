{
  "nbformat": 4,
  "nbformat_minor": 0,
  "metadata": {
    "colab": {
      "name": "NN-EmotionDetection.ipynb",
      "provenance": [],
      "collapsed_sections": [],
      "mount_file_id": "16w_zyRZKBdeoOesl3BEPnycvUYkJwreD",
      "authorship_tag": "ABX9TyNnY5taHIWykM37OcWlntg3",
      "include_colab_link": true
    },
    "kernelspec": {
      "name": "python3",
      "display_name": "Python 3"
    },
    "language_info": {
      "name": "python"
    }
  },
  "cells": [
    {
      "cell_type": "markdown",
      "metadata": {
        "id": "view-in-github",
        "colab_type": "text"
      },
      "source": [
        "<a href=\"https://colab.research.google.com/github/asloth/NN_Emtion_Recognition/blob/main/NN_EmotionDetection.ipynb\" target=\"_parent\"><img src=\"https://colab.research.google.com/assets/colab-badge.svg\" alt=\"Open In Colab\"/></a>"
      ]
    },
    {
      "cell_type": "code",
      "metadata": {
        "id": "1oStDrmOTK0m"
      },
      "source": [
        "import re\n",
        "import string\n",
        "import numpy as np\n",
        "import pandas as pd\n",
        "import matplotlib.pyplot as plt\n",
        "import seaborn as sns\n",
        "import nltk\n",
        "import keras\n",
        "\n",
        "from nltk.corpus import stopwords\n",
        "from nltk.stem import PorterStemmer\n",
        "\n",
        "from sklearn.preprocessing import LabelEncoder\n",
        "from sklearn.model_selection import train_test_split\n",
        "\n",
        "from tensorflow.keras.preprocessing.text import one_hot\n",
        "from tensorflow.keras.utils import to_categorical\n",
        "from tensorflow.keras.preprocessing.text import Tokenizer\n",
        "from tensorflow.keras.preprocessing.sequence import pad_sequences\n",
        "\n",
        "from tensorflow.keras.optimizers import Adam\n",
        "from tensorflow.keras.models import Sequential\n",
        "from tensorflow.keras.callbacks import EarlyStopping, ModelCheckpoint\n",
        "from tensorflow.keras.layers import Dense, LSTM, Embedding, Dropout, Bidirectional"
      ],
      "execution_count": 177,
      "outputs": []
    },
    {
      "cell_type": "code",
      "metadata": {
        "id": "xZnLQ3y5ziWb"
      },
      "source": [
        "go_train_data = pd.read_csv(\"/content/drive/MyDrive/Universidad/Tesis/data/train.tsv\", sep='\\t', header=None, usecols=[0,1], names=[\"Text\",\"Emotion_index\"], encoding=\"utf-8\")\n",
        "go_test_data = pd.read_csv(\"/content/drive/MyDrive/Universidad/Tesis/data/test.tsv\",  sep='\\t', header=None, usecols=[0,1], names=[\"Text\",\"Emotion_index\"], encoding=\"utf-8\")"
      ],
      "execution_count": 114,
      "outputs": []
    },
    {
      "cell_type": "code",
      "metadata": {
        "colab": {
          "base_uri": "https://localhost:8080/"
        },
        "id": "LrMQZMQx9qPG",
        "outputId": "089214b3-356c-4ede-c52c-758af71883ff"
      },
      "source": [
        "print(\"Train : \", go_train_data.shape)\n",
        "print(\"Test : \", go_test_data.shape)"
      ],
      "execution_count": 115,
      "outputs": [
        {
          "output_type": "stream",
          "name": "stdout",
          "text": [
            "Train :  (43410, 2)\n",
            "Test :  (5427, 2)\n"
          ]
        }
      ]
    },
    {
      "cell_type": "code",
      "metadata": {
        "id": "ZgnyOoXgdEs6"
      },
      "source": [
        "test_data = pd.read_csv(\"/content/drive/MyDrive/Universidad/Tesis/data/archive/test.txt\", header=None, sep=\";\", names=[\"Text\",\"Emotion\"], encoding=\"utf-8\")\n",
        "train_data = pd.read_csv(\"/content/drive/MyDrive/Universidad/Tesis/data/archive/train.txt\", header=None, sep=\";\", names=[\"Text\",\"Emotion\"], encoding=\"utf-8\")\n",
        "validation_data = pd.read_csv(\"/content/drive/MyDrive/Universidad/Tesis/data/archive/val.txt\", header=None, sep=\";\", names=[\"Text\",\"Emotion\"], encoding=\"utf-8\")"
      ],
      "execution_count": 206,
      "outputs": []
    },
    {
      "cell_type": "code",
      "metadata": {
        "colab": {
          "base_uri": "https://localhost:8080/"
        },
        "id": "fSjs7XpHeoxU",
        "outputId": "5e62f17f-df8c-4191-cc13-ff520bdaa7f8"
      },
      "source": [
        "print(\"Train : \", train_data.shape)\n",
        "print(\"Test : \", test_data.shape)\n",
        "print(\"Validation : \", validation_data.shape)"
      ],
      "execution_count": 195,
      "outputs": [
        {
          "output_type": "stream",
          "name": "stdout",
          "text": [
            "Train :  (16000, 2)\n",
            "Test :  (2000, 2)\n",
            "Validation :  (2000, 2)\n"
          ]
        }
      ]
    },
    {
      "cell_type": "markdown",
      "metadata": {
        "id": "mWNiqoMqkxFV"
      },
      "source": [
        "#Explorar la data"
      ]
    },
    {
      "cell_type": "code",
      "metadata": {
        "colab": {
          "base_uri": "https://localhost:8080/",
          "height": 206
        },
        "id": "H405RO0WfhnA",
        "outputId": "84e9a25b-779e-4ae9-c2f9-cf1d0000ae89"
      },
      "source": [
        "test_data.head()"
      ],
      "execution_count": 196,
      "outputs": [
        {
          "output_type": "execute_result",
          "data": {
            "text/html": [
              "<div>\n",
              "<style scoped>\n",
              "    .dataframe tbody tr th:only-of-type {\n",
              "        vertical-align: middle;\n",
              "    }\n",
              "\n",
              "    .dataframe tbody tr th {\n",
              "        vertical-align: top;\n",
              "    }\n",
              "\n",
              "    .dataframe thead th {\n",
              "        text-align: right;\n",
              "    }\n",
              "</style>\n",
              "<table border=\"1\" class=\"dataframe\">\n",
              "  <thead>\n",
              "    <tr style=\"text-align: right;\">\n",
              "      <th></th>\n",
              "      <th>Text</th>\n",
              "      <th>Emotion</th>\n",
              "    </tr>\n",
              "  </thead>\n",
              "  <tbody>\n",
              "    <tr>\n",
              "      <th>0</th>\n",
              "      <td>im feeling rather rotten so im not very ambiti...</td>\n",
              "      <td>sadness</td>\n",
              "    </tr>\n",
              "    <tr>\n",
              "      <th>1</th>\n",
              "      <td>im updating my blog because i feel shitty</td>\n",
              "      <td>sadness</td>\n",
              "    </tr>\n",
              "    <tr>\n",
              "      <th>2</th>\n",
              "      <td>i never make her separate from me because i do...</td>\n",
              "      <td>sadness</td>\n",
              "    </tr>\n",
              "    <tr>\n",
              "      <th>3</th>\n",
              "      <td>i left with my bouquet of red and yellow tulip...</td>\n",
              "      <td>joy</td>\n",
              "    </tr>\n",
              "    <tr>\n",
              "      <th>4</th>\n",
              "      <td>i was feeling a little vain when i did this one</td>\n",
              "      <td>sadness</td>\n",
              "    </tr>\n",
              "  </tbody>\n",
              "</table>\n",
              "</div>"
            ],
            "text/plain": [
              "                                                Text  Emotion\n",
              "0  im feeling rather rotten so im not very ambiti...  sadness\n",
              "1          im updating my blog because i feel shitty  sadness\n",
              "2  i never make her separate from me because i do...  sadness\n",
              "3  i left with my bouquet of red and yellow tulip...      joy\n",
              "4    i was feeling a little vain when i did this one  sadness"
            ]
          },
          "metadata": {},
          "execution_count": 196
        }
      ]
    },
    {
      "cell_type": "code",
      "metadata": {
        "colab": {
          "base_uri": "https://localhost:8080/",
          "height": 175
        },
        "id": "KPNhqXHBAGsH",
        "outputId": "f75119e0-ca8f-446d-abe0-29c8a5e65c92"
      },
      "source": [
        "train_data.describe(include='O')"
      ],
      "execution_count": 197,
      "outputs": [
        {
          "output_type": "execute_result",
          "data": {
            "text/html": [
              "<div>\n",
              "<style scoped>\n",
              "    .dataframe tbody tr th:only-of-type {\n",
              "        vertical-align: middle;\n",
              "    }\n",
              "\n",
              "    .dataframe tbody tr th {\n",
              "        vertical-align: top;\n",
              "    }\n",
              "\n",
              "    .dataframe thead th {\n",
              "        text-align: right;\n",
              "    }\n",
              "</style>\n",
              "<table border=\"1\" class=\"dataframe\">\n",
              "  <thead>\n",
              "    <tr style=\"text-align: right;\">\n",
              "      <th></th>\n",
              "      <th>Text</th>\n",
              "      <th>Emotion</th>\n",
              "    </tr>\n",
              "  </thead>\n",
              "  <tbody>\n",
              "    <tr>\n",
              "      <th>count</th>\n",
              "      <td>16000</td>\n",
              "      <td>16000</td>\n",
              "    </tr>\n",
              "    <tr>\n",
              "      <th>unique</th>\n",
              "      <td>15969</td>\n",
              "      <td>6</td>\n",
              "    </tr>\n",
              "    <tr>\n",
              "      <th>top</th>\n",
              "      <td>i feel a remembrance of the strange by justin ...</td>\n",
              "      <td>joy</td>\n",
              "    </tr>\n",
              "    <tr>\n",
              "      <th>freq</th>\n",
              "      <td>2</td>\n",
              "      <td>5362</td>\n",
              "    </tr>\n",
              "  </tbody>\n",
              "</table>\n",
              "</div>"
            ],
            "text/plain": [
              "                                                     Text Emotion\n",
              "count                                               16000   16000\n",
              "unique                                              15969       6\n",
              "top     i feel a remembrance of the strange by justin ...     joy\n",
              "freq                                                    2    5362"
            ]
          },
          "metadata": {},
          "execution_count": 197
        }
      ]
    },
    {
      "cell_type": "code",
      "metadata": {
        "colab": {
          "base_uri": "https://localhost:8080/"
        },
        "id": "IoHzcqqEJUN_",
        "outputId": "c776e10d-0968-4cf4-ef05-7f81b519be2c"
      },
      "source": [
        "test_data['Emotion'].unique()"
      ],
      "execution_count": 201,
      "outputs": [
        {
          "output_type": "execute_result",
          "data": {
            "text/plain": [
              "array(['sadness', 'joy', 'fear', 'anger', 'love', 'surprise'],\n",
              "      dtype=object)"
            ]
          },
          "metadata": {},
          "execution_count": 201
        }
      ]
    },
    {
      "cell_type": "code",
      "metadata": {
        "colab": {
          "base_uri": "https://localhost:8080/",
          "height": 175
        },
        "id": "DIsR84rR0pjn",
        "outputId": "007be465-f908-4561-90bc-3bbf138e05a5"
      },
      "source": [
        "test_data.describe(include='O')"
      ],
      "execution_count": 199,
      "outputs": [
        {
          "output_type": "execute_result",
          "data": {
            "text/html": [
              "<div>\n",
              "<style scoped>\n",
              "    .dataframe tbody tr th:only-of-type {\n",
              "        vertical-align: middle;\n",
              "    }\n",
              "\n",
              "    .dataframe tbody tr th {\n",
              "        vertical-align: top;\n",
              "    }\n",
              "\n",
              "    .dataframe thead th {\n",
              "        text-align: right;\n",
              "    }\n",
              "</style>\n",
              "<table border=\"1\" class=\"dataframe\">\n",
              "  <thead>\n",
              "    <tr style=\"text-align: right;\">\n",
              "      <th></th>\n",
              "      <th>Text</th>\n",
              "      <th>Emotion</th>\n",
              "    </tr>\n",
              "  </thead>\n",
              "  <tbody>\n",
              "    <tr>\n",
              "      <th>count</th>\n",
              "      <td>2000</td>\n",
              "      <td>2000</td>\n",
              "    </tr>\n",
              "    <tr>\n",
              "      <th>unique</th>\n",
              "      <td>2000</td>\n",
              "      <td>6</td>\n",
              "    </tr>\n",
              "    <tr>\n",
              "      <th>top</th>\n",
              "      <td>i was feeling more and more frustrated with ea...</td>\n",
              "      <td>joy</td>\n",
              "    </tr>\n",
              "    <tr>\n",
              "      <th>freq</th>\n",
              "      <td>1</td>\n",
              "      <td>695</td>\n",
              "    </tr>\n",
              "  </tbody>\n",
              "</table>\n",
              "</div>"
            ],
            "text/plain": [
              "                                                     Text Emotion\n",
              "count                                                2000    2000\n",
              "unique                                               2000       6\n",
              "top     i was feeling more and more frustrated with ea...     joy\n",
              "freq                                                    1     695"
            ]
          },
          "metadata": {},
          "execution_count": 199
        }
      ]
    },
    {
      "cell_type": "code",
      "metadata": {
        "colab": {
          "base_uri": "https://localhost:8080/",
          "height": 624
        },
        "id": "WdZ0vJ1Hg_ce",
        "outputId": "4f196f6f-9fd8-436b-a1f5-63465e1294a3"
      },
      "source": [
        "plt.figure(figsize=(20,10))\n",
        "sns.countplot(x='Emotion' , data=train_data)\n",
        "plt.plot()"
      ],
      "execution_count": 9,
      "outputs": [
        {
          "output_type": "execute_result",
          "data": {
            "text/plain": [
              "[]"
            ]
          },
          "metadata": {},
          "execution_count": 9
        },
        {
          "output_type": "display_data",
          "data": {
            "image/png": "[encoded data removed]",
            "text/plain": [
              "<Figure size 1440x720 with 1 Axes>"
            ]
          },
          "metadata": {
            "needs_background": "light"
          }
        }
      ]
    },
    {
      "cell_type": "code",
      "metadata": {
        "colab": {
          "base_uri": "https://localhost:8080/"
        },
        "id": "71Fs0-F90kSU",
        "outputId": "603434b6-b802-4cd2-bcad-8c3c2225113e"
      },
      "source": [
        "train_data['Emotion'].value_counts()"
      ],
      "execution_count": 190,
      "outputs": [
        {
          "output_type": "execute_result",
          "data": {
            "text/plain": [
              "joy         5362\n",
              "sadness     4666\n",
              "anger       2159\n",
              "fear        1937\n",
              "love        1304\n",
              "surprise     572\n",
              "Name: Emotion, dtype: int64"
            ]
          },
          "metadata": {},
          "execution_count": 190
        }
      ]
    },
    {
      "cell_type": "code",
      "metadata": {
        "colab": {
          "base_uri": "https://localhost:8080/"
        },
        "id": "iGX71MaL0FDV",
        "outputId": "e07feaea-5832-4184-a608-b32de8edcad8"
      },
      "source": [
        "test_data['Emotion'].value_counts()"
      ],
      "execution_count": 193,
      "outputs": [
        {
          "output_type": "execute_result",
          "data": {
            "text/plain": [
              "joy         695\n",
              "sadness     581\n",
              "anger       275\n",
              "fear        224\n",
              "love        159\n",
              "surprise     66\n",
              "Name: Emotion, dtype: int64"
            ]
          },
          "metadata": {},
          "execution_count": 193
        }
      ]
    },
    {
      "cell_type": "code",
      "metadata": {
        "colab": {
          "base_uri": "https://localhost:8080/",
          "height": 624
        },
        "id": "qT9CJtjREykr",
        "outputId": "5904cddf-5140-44f0-d7a8-6f968e690d2f"
      },
      "source": [
        "plt.figure(figsize=(20,10))\n",
        "sns.countplot(x='Emotion' , data=test_data)\n",
        "plt.plot()"
      ],
      "execution_count": 10,
      "outputs": [
        {
          "output_type": "execute_result",
          "data": {
            "text/plain": [
              "[]"
            ]
          },
          "metadata": {},
          "execution_count": 10
        },
        {
          "output_type": "display_data",
          "data": {
            "image/png": "[encoded data removed]",
            "text/plain": [
              "<Figure size 1440x720 with 1 Axes>"
            ]
          },
          "metadata": {
            "needs_background": "light"
          }
        }
      ]
    },
    {
      "cell_type": "markdown",
      "metadata": {
        "id": "FQjAkTcAnqgO"
      },
      "source": [
        "#Preprocesar el texto"
      ]
    },
    {
      "cell_type": "code",
      "metadata": {
        "id": "uDsmV7EN1LN3"
      },
      "source": [
        "#go emotions\n",
        "def grouping_go_data(data):\n",
        "  data = data.drop('Emotion_index', axis=1).join(data['Emotion_index'].str.split(',', expand=True).stack().reset_index(level=1, drop=True).rename('Emotion_index'))\n",
        "  data['Emotion'] = data['Emotion_index'].map({\n",
        "      '0':'admiration',\n",
        "      '1':'amusement',\n",
        "      '2':'anger',\n",
        "      '3':'annoyance',\n",
        "      '4':'approval',\n",
        "      '5':'caring',\n",
        "      '6':'confusion',\n",
        "      '7':'curiosity',\n",
        "      '8':'desire',\n",
        "      '9':'disappointment',\n",
        "      '10':'disapproval',\n",
        "      '11':'disgust',\n",
        "      '12':'embarrassment',\n",
        "      '13':'excitement',\n",
        "      '14':'fear',\n",
        "      '15':'gratitude',\n",
        "      '16':'grief',\n",
        "      '17':'joy',\n",
        "      '18':'love',\n",
        "      '19':'nervousness',\n",
        "      '20':'optimism',\n",
        "      '21':'pride',\n",
        "      '22':'realization',\n",
        "      '23':'relief',\n",
        "      '24':'remorse',\n",
        "      '25':'sadness',\n",
        "      '26':'surprise',\n",
        "      '27':'neutral'\n",
        "  })\n",
        "  #juntando emociones\n",
        "  data['Emotion']= data['Emotion'].replace(['annoyance', 'disapproval'], 'anger')\n",
        "  data['Emotion']= data['Emotion'].replace(['nervousness'], 'fear')\n",
        "  data['Emotion']= data['Emotion'].replace([\"amusement\", \"approval\", \"excitement\", \"gratitude\",  \"optimism\", \"relief\", \"pride\", \"admiration\", \"desire\", \"caring\"], \"joy\")\n",
        "  data['Emotion']= data['Emotion'].replace([\"disappointment\", \"embarrassment\", \"grief\",  \"remorse\"], \"sadness\")\n",
        "  data['Emotion']= data['Emotion'].replace([\"realization\", \"confusion\", \"curiosity\"], \"surprise\")\n",
        "  return data\n"
      ],
      "execution_count": 118,
      "outputs": []
    },
    {
      "cell_type": "code",
      "metadata": {
        "id": "maq5WS5jFa2M"
      },
      "source": [
        "go_train_data = grouping_go_data(go_train_data)\n",
        "go_test_data = grouping_go_data(go_test_data)"
      ],
      "execution_count": 119,
      "outputs": []
    },
    {
      "cell_type": "code",
      "metadata": {
        "colab": {
          "base_uri": "https://localhost:8080/",
          "height": 540
        },
        "id": "zPdcftc220_m",
        "outputId": "e3892500-1923-4ba4-ae87-0036b975a281"
      },
      "source": [
        "plt.figure(figsize=(30,10))\n",
        "sns.countplot(x='Emotion' , data=go_train_data)\n",
        "plt.plot()"
      ],
      "execution_count": 14,
      "outputs": [
        {
          "output_type": "execute_result",
          "data": {
            "text/plain": [
              "[]"
            ]
          },
          "metadata": {},
          "execution_count": 14
        },
        {
          "output_type": "display_data",
          "data": {
            "image/png": "[encoded data removed]",
            "text/plain": [
              "<Figure size 2160x720 with 1 Axes>"
            ]
          },
          "metadata": {
            "needs_background": "light"
          }
        }
      ]
    },
    {
      "cell_type": "code",
      "metadata": {
        "colab": {
          "base_uri": "https://localhost:8080/",
          "height": 542
        },
        "id": "r8P_xop1GLIo",
        "outputId": "4126c4e9-ce53-47e7-d7f0-b0275854b595"
      },
      "source": [
        "plt.figure(figsize=(30,10))\n",
        "sns.countplot(x='Emotion' , data=go_test_data)\n",
        "plt.plot()"
      ],
      "execution_count": 15,
      "outputs": [
        {
          "output_type": "execute_result",
          "data": {
            "text/plain": [
              "[]"
            ]
          },
          "metadata": {},
          "execution_count": 15
        },
        {
          "output_type": "display_data",
          "data": {
            "image/png": "[encoded data removed]",
            "text/plain": [
              "<Figure size 2160x720 with 1 Axes>"
            ]
          },
          "metadata": {
            "needs_background": "light"
          }
        }
      ]
    },
    {
      "cell_type": "code",
      "metadata": {
        "id": "QuMB1-eF3Fej"
      },
      "source": [
        "surprise_data = go_train_data[go_train_data['Emotion'] =='surprise']\n",
        "love_data = go_train_data[go_train_data['Emotion'] =='love']\n",
        "fear_data = go_train_data[go_train_data['Emotion'] =='fear']\n",
        "anger_data = go_train_data[go_train_data['Emotion'] =='anger']\n",
        "sadness_data = go_train_data[go_train_data['Emotion'] =='sadness']"
      ],
      "execution_count": 120,
      "outputs": []
    },
    {
      "cell_type": "code",
      "metadata": {
        "id": "ZN3K5VAn-wOu"
      },
      "source": [
        "anger_data = anger_data[:3000]\n",
        "sadness_data = sadness_data[:1000]\n",
        "surprise_data = surprise_data[:4000]"
      ],
      "execution_count": 121,
      "outputs": []
    },
    {
      "cell_type": "code",
      "metadata": {
        "colab": {
          "base_uri": "https://localhost:8080/",
          "height": 424
        },
        "id": "73t29j5N_GfI",
        "outputId": "c0a77604-6cd3-444a-9ae9-71ad2ef774ef"
      },
      "source": [
        "new_train_data = pd.concat([train_data,love_data[['Text','Emotion']] ])\n",
        "new_train_data = pd.concat([new_train_data,surprise_data[['Text','Emotion']] ])\n",
        "new_train_data = pd.concat([new_train_data,fear_data[['Text','Emotion']] ])\n",
        "new_train_data = pd.concat([new_train_data,anger_data[['Text','Emotion']] ])\n",
        "new_train_data = pd.concat([new_train_data,sadness_data[['Text','Emotion']] ])\n",
        "new_train_data.reset_index(inplace=True)\n",
        "new_train_data"
      ],
      "execution_count": 122,
      "outputs": [
        {
          "output_type": "execute_result",
          "data": {
            "text/html": [
              "<div>\n",
              "<style scoped>\n",
              "    .dataframe tbody tr th:only-of-type {\n",
              "        vertical-align: middle;\n",
              "    }\n",
              "\n",
              "    .dataframe tbody tr th {\n",
              "        vertical-align: top;\n",
              "    }\n",
              "\n",
              "    .dataframe thead th {\n",
              "        text-align: right;\n",
              "    }\n",
              "</style>\n",
              "<table border=\"1\" class=\"dataframe\">\n",
              "  <thead>\n",
              "    <tr style=\"text-align: right;\">\n",
              "      <th></th>\n",
              "      <th>index</th>\n",
              "      <th>Text</th>\n",
              "      <th>Emotion</th>\n",
              "    </tr>\n",
              "  </thead>\n",
              "  <tbody>\n",
              "    <tr>\n",
              "      <th>0</th>\n",
              "      <td>0</td>\n",
              "      <td>i didnt feel humiliated</td>\n",
              "      <td>sadness</td>\n",
              "    </tr>\n",
              "    <tr>\n",
              "      <th>1</th>\n",
              "      <td>1</td>\n",
              "      <td>i can go from feeling so hopeless to so damned...</td>\n",
              "      <td>sadness</td>\n",
              "    </tr>\n",
              "    <tr>\n",
              "      <th>2</th>\n",
              "      <td>2</td>\n",
              "      <td>im grabbing a minute to post i feel greedy wrong</td>\n",
              "      <td>anger</td>\n",
              "    </tr>\n",
              "    <tr>\n",
              "      <th>3</th>\n",
              "      <td>3</td>\n",
              "      <td>i am ever feeling nostalgic about the fireplac...</td>\n",
              "      <td>love</td>\n",
              "    </tr>\n",
              "    <tr>\n",
              "      <th>4</th>\n",
              "      <td>4</td>\n",
              "      <td>i am feeling grouchy</td>\n",
              "      <td>anger</td>\n",
              "    </tr>\n",
              "    <tr>\n",
              "      <th>...</th>\n",
              "      <td>...</td>\n",
              "      <td>...</td>\n",
              "      <td>...</td>\n",
              "    </tr>\n",
              "    <tr>\n",
              "      <th>26841</th>\n",
              "      <td>12057</td>\n",
              "      <td>In my few years playing I never knew this ... ...</td>\n",
              "      <td>sadness</td>\n",
              "    </tr>\n",
              "    <tr>\n",
              "      <th>26842</th>\n",
              "      <td>12060</td>\n",
              "      <td>I saw your missing post and hoped you found yo...</td>\n",
              "      <td>sadness</td>\n",
              "    </tr>\n",
              "    <tr>\n",
              "      <th>26843</th>\n",
              "      <td>12062</td>\n",
              "      <td>You're clearly upset tho, you're not doing a g...</td>\n",
              "      <td>sadness</td>\n",
              "    </tr>\n",
              "    <tr>\n",
              "      <th>26844</th>\n",
              "      <td>12074</td>\n",
              "      <td>I’m sorry to hear this. Live a hell of a life ...</td>\n",
              "      <td>sadness</td>\n",
              "    </tr>\n",
              "    <tr>\n",
              "      <th>26845</th>\n",
              "      <td>12085</td>\n",
              "      <td>Ah, this may explain all the untimely heart at...</td>\n",
              "      <td>sadness</td>\n",
              "    </tr>\n",
              "  </tbody>\n",
              "</table>\n",
              "<p>26846 rows × 3 columns</p>\n",
              "</div>"
            ],
            "text/plain": [
              "       index                                               Text  Emotion\n",
              "0          0                            i didnt feel humiliated  sadness\n",
              "1          1  i can go from feeling so hopeless to so damned...  sadness\n",
              "2          2   im grabbing a minute to post i feel greedy wrong    anger\n",
              "3          3  i am ever feeling nostalgic about the fireplac...     love\n",
              "4          4                               i am feeling grouchy    anger\n",
              "...      ...                                                ...      ...\n",
              "26841  12057  In my few years playing I never knew this ... ...  sadness\n",
              "26842  12060  I saw your missing post and hoped you found yo...  sadness\n",
              "26843  12062  You're clearly upset tho, you're not doing a g...  sadness\n",
              "26844  12074  I’m sorry to hear this. Live a hell of a life ...  sadness\n",
              "26845  12085  Ah, this may explain all the untimely heart at...  sadness\n",
              "\n",
              "[26846 rows x 3 columns]"
            ]
          },
          "metadata": {},
          "execution_count": 122
        }
      ]
    },
    {
      "cell_type": "code",
      "metadata": {
        "colab": {
          "base_uri": "https://localhost:8080/",
          "height": 542
        },
        "id": "TYbBnFZIAH-0",
        "outputId": "3ca5d636-3add-47e0-e98f-e3f2fa741352"
      },
      "source": [
        "plt.figure(figsize=(30,10))\n",
        "sns.countplot(x='Emotion' , data=new_train_data)\n",
        "plt.plot()"
      ],
      "execution_count": 38,
      "outputs": [
        {
          "output_type": "execute_result",
          "data": {
            "text/plain": [
              "[]"
            ]
          },
          "metadata": {},
          "execution_count": 38
        },
        {
          "output_type": "display_data",
          "data": {
            "image/png": "[encoded data removed]",
            "text/plain": [
              "<Figure size 2160x720 with 1 Axes>"
            ]
          },
          "metadata": {
            "needs_background": "light"
          }
        }
      ]
    },
    {
      "cell_type": "code",
      "metadata": {
        "id": "vHQSQlaGELjk"
      },
      "source": [
        "surprise_test_data = go_test_data[go_test_data['Emotion'] =='surprise']\n",
        "love_test_data = go_test_data[go_test_data['Emotion'] =='love']\n",
        "fear_test_data = go_test_data[go_test_data['Emotion'] =='fear']\n",
        "anger_test_data = go_test_data[go_test_data['Emotion'] =='anger']\n",
        "sadness_test_data = go_test_data[go_test_data['Emotion'] =='sadness']"
      ],
      "execution_count": 123,
      "outputs": []
    },
    {
      "cell_type": "code",
      "metadata": {
        "colab": {
          "base_uri": "https://localhost:8080/"
        },
        "id": "CJMT7PGpLsWz",
        "outputId": "ce6d494e-4706-40d4-ca3c-4e1aa2f32dcd"
      },
      "source": [
        "sadness_test_data.shape"
      ],
      "execution_count": 44,
      "outputs": [
        {
          "output_type": "execute_result",
          "data": {
            "text/plain": [
              "(406, 3)"
            ]
          },
          "metadata": {},
          "execution_count": 44
        }
      ]
    },
    {
      "cell_type": "code",
      "metadata": {
        "id": "xE1uC7m2Ky3G"
      },
      "source": [
        "anger_test_data = anger_test_data[:500]\n",
        "sadness_test_data = sadness_test_data[:200]"
      ],
      "execution_count": 124,
      "outputs": []
    },
    {
      "cell_type": "code",
      "metadata": {
        "colab": {
          "base_uri": "https://localhost:8080/",
          "height": 424
        },
        "id": "bvH1tSEIGvpc",
        "outputId": "e2e3663d-9102-4540-9037-1167f9c3269f"
      },
      "source": [
        "new_test_data = pd.concat([test_data,surprise_test_data[['Text','Emotion']] ])\n",
        "new_test_data = pd.concat([new_test_data,love_test_data[['Text','Emotion']] ])\n",
        "new_test_data = pd.concat([new_test_data,fear_test_data[['Text','Emotion']] ])\n",
        "new_test_data = pd.concat([new_test_data,anger_test_data[['Text','Emotion']] ])\n",
        "new_test_data = pd.concat([new_test_data,sadness_test_data[['Text','Emotion']] ])\n",
        "new_test_data.reset_index(inplace=True)\n",
        "new_test_data"
      ],
      "execution_count": 125,
      "outputs": [
        {
          "output_type": "execute_result",
          "data": {
            "text/html": [
              "<div>\n",
              "<style scoped>\n",
              "    .dataframe tbody tr th:only-of-type {\n",
              "        vertical-align: middle;\n",
              "    }\n",
              "\n",
              "    .dataframe tbody tr th {\n",
              "        vertical-align: top;\n",
              "    }\n",
              "\n",
              "    .dataframe thead th {\n",
              "        text-align: right;\n",
              "    }\n",
              "</style>\n",
              "<table border=\"1\" class=\"dataframe\">\n",
              "  <thead>\n",
              "    <tr style=\"text-align: right;\">\n",
              "      <th></th>\n",
              "      <th>index</th>\n",
              "      <th>Text</th>\n",
              "      <th>Emotion</th>\n",
              "    </tr>\n",
              "  </thead>\n",
              "  <tbody>\n",
              "    <tr>\n",
              "      <th>0</th>\n",
              "      <td>0</td>\n",
              "      <td>im feeling rather rotten so im not very ambiti...</td>\n",
              "      <td>sadness</td>\n",
              "    </tr>\n",
              "    <tr>\n",
              "      <th>1</th>\n",
              "      <td>1</td>\n",
              "      <td>im updating my blog because i feel shitty</td>\n",
              "      <td>sadness</td>\n",
              "    </tr>\n",
              "    <tr>\n",
              "      <th>2</th>\n",
              "      <td>2</td>\n",
              "      <td>i never make her separate from me because i do...</td>\n",
              "      <td>sadness</td>\n",
              "    </tr>\n",
              "    <tr>\n",
              "      <th>3</th>\n",
              "      <td>3</td>\n",
              "      <td>i left with my bouquet of red and yellow tulip...</td>\n",
              "      <td>joy</td>\n",
              "    </tr>\n",
              "    <tr>\n",
              "      <th>4</th>\n",
              "      <td>4</td>\n",
              "      <td>i was feeling a little vain when i did this one</td>\n",
              "      <td>sadness</td>\n",
              "    </tr>\n",
              "    <tr>\n",
              "      <th>...</th>\n",
              "      <td>...</td>\n",
              "      <td>...</td>\n",
              "      <td>...</td>\n",
              "    </tr>\n",
              "    <tr>\n",
              "      <th>3757</th>\n",
              "      <td>2845</td>\n",
              "      <td>This is some of the worst passing I've ever seen.</td>\n",
              "      <td>sadness</td>\n",
              "    </tr>\n",
              "    <tr>\n",
              "      <th>3758</th>\n",
              "      <td>2853</td>\n",
              "      <td>Can’t believe [NAME] era is coming to an end.....</td>\n",
              "      <td>sadness</td>\n",
              "    </tr>\n",
              "    <tr>\n",
              "      <th>3759</th>\n",
              "      <td>2884</td>\n",
              "      <td>I mean yeah we were the best counter attacking...</td>\n",
              "      <td>sadness</td>\n",
              "    </tr>\n",
              "    <tr>\n",
              "      <th>3760</th>\n",
              "      <td>2885</td>\n",
              "      <td>There are Cubs fans that died at 95 without ev...</td>\n",
              "      <td>sadness</td>\n",
              "    </tr>\n",
              "    <tr>\n",
              "      <th>3761</th>\n",
              "      <td>2899</td>\n",
              "      <td>“[NAME] you’re still here? Geez you really are...</td>\n",
              "      <td>sadness</td>\n",
              "    </tr>\n",
              "  </tbody>\n",
              "</table>\n",
              "<p>3762 rows × 3 columns</p>\n",
              "</div>"
            ],
            "text/plain": [
              "      index                                               Text  Emotion\n",
              "0         0  im feeling rather rotten so im not very ambiti...  sadness\n",
              "1         1          im updating my blog because i feel shitty  sadness\n",
              "2         2  i never make her separate from me because i do...  sadness\n",
              "3         3  i left with my bouquet of red and yellow tulip...      joy\n",
              "4         4    i was feeling a little vain when i did this one  sadness\n",
              "...     ...                                                ...      ...\n",
              "3757   2845  This is some of the worst passing I've ever seen.  sadness\n",
              "3758   2853  Can’t believe [NAME] era is coming to an end.....  sadness\n",
              "3759   2884  I mean yeah we were the best counter attacking...  sadness\n",
              "3760   2885  There are Cubs fans that died at 95 without ev...  sadness\n",
              "3761   2899  “[NAME] you’re still here? Geez you really are...  sadness\n",
              "\n",
              "[3762 rows x 3 columns]"
            ]
          },
          "metadata": {},
          "execution_count": 125
        }
      ]
    },
    {
      "cell_type": "code",
      "metadata": {
        "colab": {
          "base_uri": "https://localhost:8080/",
          "height": 544
        },
        "id": "UapwFkw7HSaa",
        "outputId": "7ec66d72-d8f3-4f64-b489-ced467ea0742"
      },
      "source": [
        "plt.figure(figsize=(30,10))\n",
        "sns.countplot(x='Emotion' , data=new_test_data)\n",
        "plt.plot()"
      ],
      "execution_count": 50,
      "outputs": [
        {
          "output_type": "execute_result",
          "data": {
            "text/plain": [
              "[]"
            ]
          },
          "metadata": {},
          "execution_count": 50
        },
        {
          "output_type": "display_data",
          "data": {
            "image/png": "[encoded data removed]",
            "text/plain": [
              "<Figure size 2160x720 with 1 Axes>"
            ]
          },
          "metadata": {
            "needs_background": "light"
          }
        }
      ]
    },
    {
      "cell_type": "markdown",
      "metadata": {
        "id": "B-bj_JFP9zud"
      },
      "source": [
        "##Cleaning"
      ]
    },
    {
      "cell_type": "markdown",
      "metadata": {
        "id": "llyhby7tG-Af"
      },
      "source": [
        "###Data x"
      ]
    },
    {
      "cell_type": "code",
      "metadata": {
        "colab": {
          "base_uri": "https://localhost:8080/"
        },
        "id": "fY0YoAvgnwV8",
        "outputId": "a6fcc703-4cf2-4fa3-98d6-30e08b1f49e9"
      },
      "source": [
        "nltk.download('stopwords') "
      ],
      "execution_count": 180,
      "outputs": [
        {
          "output_type": "stream",
          "name": "stdout",
          "text": [
            "[nltk_data] Downloading package stopwords to /root/nltk_data...\n",
            "[nltk_data]   Package stopwords is already up-to-date!\n"
          ]
        },
        {
          "output_type": "execute_result",
          "data": {
            "text/plain": [
              "True"
            ]
          },
          "metadata": {},
          "execution_count": 180
        }
      ]
    },
    {
      "cell_type": "code",
      "metadata": {
        "id": "wb7AWvV3tuOs"
      },
      "source": [
        "sw = stopwords.words('english')"
      ],
      "execution_count": 181,
      "outputs": []
    },
    {
      "cell_type": "code",
      "metadata": {
        "id": "UOuMJBPXpXmV"
      },
      "source": [
        "vocab_size = 10000\n",
        "len_sentence = 150"
      ],
      "execution_count": 128,
      "outputs": []
    },
    {
      "cell_type": "code",
      "metadata": {
        "id": "lJSW1LbxnyIQ"
      },
      "source": [
        "def text_prepare(data, column):\n",
        "    stemmer = PorterStemmer()\n",
        "    corpus = []\n",
        "    \n",
        "    for text in data[column]:\n",
        "        text = re.sub(\"[^a-zA-Z]\", \" \", text)\n",
        "        \n",
        "        text = text.lower()\n",
        "        text = text.split()\n",
        "        \n",
        "        text = [stemmer.stem(word) for word in text if word not in sw]\n",
        "        text = \" \".join(text)\n",
        "        \n",
        "        corpus.append(text)\n",
        "    one_hot_word = [one_hot(input_text=word, n=vocab_size) for word in corpus]\n",
        "    embeddec_doc = pad_sequences(sequences=one_hot_word, maxlen=len_sentence, padding=\"pre\")\n",
        "    return embeddec_doc"
      ],
      "execution_count": 129,
      "outputs": []
    },
    {
      "cell_type": "code",
      "metadata": {
        "id": "cxrhMIh0sypZ"
      },
      "source": [
        "x_train=text_prepare(train_data, \"Text\")\n",
        "x_validate=text_prepare(validation_data, \"Text\")\n",
        "x_test=text_prepare(test_data, \"Text\")"
      ],
      "execution_count": 130,
      "outputs": []
    },
    {
      "cell_type": "code",
      "metadata": {
        "id": "P1Xs3v4dHRPa"
      },
      "source": [
        "tokenizer = Tokenizer()\n",
        "\n",
        "def text_tokenize(tokenizer, data , column):\n",
        "  corpus = []\n",
        "  for text in data[column]:\n",
        "      text = re.sub(\"[^a-zA-Z]\", \" \", text)\n",
        "      text = text.lower()\n",
        "      text = text.split()\n",
        "      text = \" \".join(text)\n",
        "      corpus.append(text)\n",
        "  tokenizer.fit_on_texts(corpus)\n",
        "  sequences = tokenizer.texts_to_sequences(data[column])\n",
        "  return pad_sequences(sequences, maxlen=256, truncating='pre')"
      ],
      "execution_count": 207,
      "outputs": []
    },
    {
      "cell_type": "code",
      "metadata": {
        "id": "8xZcDRc8JbiR"
      },
      "source": [
        "x_train=text_tokenize(tokenizer,train_data, \"Text\")\n",
        "x_test=text_tokenize(tokenizer,test_data, \"Text\")\n",
        "x_validate=text_tokenize(tokenizer,validation_data, \"Text\")"
      ],
      "execution_count": 208,
      "outputs": []
    },
    {
      "cell_type": "code",
      "metadata": {
        "colab": {
          "base_uri": "https://localhost:8080/"
        },
        "id": "rB4-VPDNwy_R",
        "outputId": "048c588a-68ea-4347-d6ac-8a02c530a756"
      },
      "source": [
        "print(y_train.shape)\n",
        "print(x_train.shape)"
      ],
      "execution_count": 209,
      "outputs": [
        {
          "output_type": "stream",
          "name": "stdout",
          "text": [
            "(16000, 6)\n",
            "(16000, 256)\n"
          ]
        }
      ]
    },
    {
      "cell_type": "code",
      "metadata": {
        "colab": {
          "base_uri": "https://localhost:8080/"
        },
        "id": "cKAXxLfyLO51",
        "outputId": "3006cf71-d9fb-43ba-8182-9df2a496a49c"
      },
      "source": [
        "vocab_size = len(tokenizer.word_index) + 1\n",
        "vocab_size"
      ],
      "execution_count": 215,
      "outputs": [
        {
          "output_type": "execute_result",
          "data": {
            "text/plain": [
              "17097"
            ]
          },
          "metadata": {},
          "execution_count": 215
        }
      ]
    },
    {
      "cell_type": "markdown",
      "metadata": {
        "id": "---zSDrsHCcH"
      },
      "source": [
        "###Data Y"
      ]
    },
    {
      "cell_type": "code",
      "metadata": {
        "id": "_0SMtcAfq4tx"
      },
      "source": [
        "y_train=train_data[\"Emotion\"]\n",
        "y_validate=validation_data[\"Emotion\"]\n",
        "y_test=test_data[\"Emotion\"]"
      ],
      "execution_count": 202,
      "outputs": []
    },
    {
      "cell_type": "code",
      "metadata": {
        "id": "EOom_h6wVXl4"
      },
      "source": [
        "#ONE HOT ENCODER \n",
        "from sklearn.preprocessing import OneHotEncoder\n",
        "enc = OneHotEncoder()\n",
        "\n",
        "#los pasa a array\n",
        "y_train = np.array(y_train)\n",
        "y_test = np.array(y_test)\n",
        "y_validate = np.array(y_validate)\n",
        "#array(['sadness', 'sadness', 'anger', ..., 'joy', 'anger', 'sadness'],\n",
        "      #dtype=object)\n",
        "\n",
        "      #los pasa one hot encode\n",
        "y_train = enc.fit_transform(y_train.reshape(-1,1)).toarray()\n",
        "y_test = enc.fit_transform(y_test.reshape(-1,1)).toarray()\n",
        "y_validate = enc.fit_transform(y_validate.reshape(-1,1)).toarray()"
      ],
      "execution_count": 168,
      "outputs": []
    },
    {
      "cell_type": "code",
      "metadata": {
        "id": "9w-vRW27MP6X",
        "colab": {
          "base_uri": "https://localhost:8080/"
        },
        "outputId": "c42a97b1-97df-4287-ea89-7609fe246410"
      },
      "source": [
        "#LABEL ENCODER\n",
        "le = LabelEncoder()\n",
        "y_train= le.fit_transform(y_train)\n",
        "y_test= le.fit_transform(y_validate)\n",
        "y_validate= le.fit_transform(y_validate)\n",
        "\n",
        "y_train = to_categorical(y_train)\n",
        "y_test = to_categorical(y_test)\n",
        "y_validate = to_categorical(y_validate)\n",
        "y_train"
      ],
      "execution_count": 203,
      "outputs": [
        {
          "output_type": "execute_result",
          "data": {
            "text/plain": [
              "array([[0., 0., 0., 0., 1., 0.],\n",
              "       [0., 0., 0., 0., 1., 0.],\n",
              "       [1., 0., 0., 0., 0., 0.],\n",
              "       ...,\n",
              "       [0., 0., 1., 0., 0., 0.],\n",
              "       [1., 0., 0., 0., 0., 0.],\n",
              "       [0., 0., 0., 0., 1., 0.]], dtype=float32)"
            ]
          },
          "metadata": {},
          "execution_count": 203
        }
      ]
    },
    {
      "cell_type": "code",
      "metadata": {
        "id": "0gO7hbnJOmZH",
        "colab": {
          "base_uri": "https://localhost:8080/"
        },
        "outputId": "bed708f4-3954-4abb-e4bf-ec3c6f4b8aac"
      },
      "source": [
        "y_train.shape"
      ],
      "execution_count": 213,
      "outputs": [
        {
          "output_type": "execute_result",
          "data": {
            "text/plain": [
              "(16000, 6)"
            ]
          },
          "metadata": {},
          "execution_count": 213
        }
      ]
    },
    {
      "cell_type": "markdown",
      "metadata": {
        "id": "7SLEyAYCPLzH"
      },
      "source": [
        "##GloVe"
      ]
    },
    {
      "cell_type": "code",
      "metadata": {
        "colab": {
          "base_uri": "https://localhost:8080/"
        },
        "id": "OugwBXd5PPQ2",
        "outputId": "db8987c8-e5cd-4496-a9f8-cea223bdeb91"
      },
      "source": [
        "path_to_glove = '/content/drive/MyDrive/Universidad/Tesis/glove_6b/glove.6B.200d.txt'\n",
        "\n",
        "embeddings_index = {}\n",
        "\n",
        "\n",
        "file = open(path_to_glove, encoding='utf-8')\n",
        "# Read word vectors\n",
        "for line in file:\n",
        "    word, coef = line.split(maxsplit=1)\n",
        "    vectors = np.fromstring(coef, \"f\", sep=\" \")\n",
        "    embeddings_index[word] = vectors\n",
        "\n",
        "file.close()\n",
        "\n",
        "print(\"Found %s word vectors.\" % len(embeddings_index))"
      ],
      "execution_count": 230,
      "outputs": [
        {
          "output_type": "stream",
          "name": "stdout",
          "text": [
            "Found 400001 word vectors.\n"
          ]
        }
      ]
    },
    {
      "cell_type": "code",
      "metadata": {
        "id": "wNkCI5YCa_dH"
      },
      "source": [
        "embedding_dimension = 200"
      ],
      "execution_count": 231,
      "outputs": []
    },
    {
      "cell_type": "code",
      "metadata": {
        "colab": {
          "base_uri": "https://localhost:8080/"
        },
        "id": "-E6taERUbOKG",
        "outputId": "447b982f-0af1-481f-921e-b0c7252a5904"
      },
      "source": [
        "hits = 0\n",
        "misses = 0\n",
        "\n",
        "word_vector_matrix = np.zeros((vocab_size, embedding_dimension))\n",
        "\n",
        "for word, i in tokenizer.word_index.items():\n",
        "    vector = embeddings_index.get(word)\n",
        "    if vector is not None:\n",
        "        word_vector_matrix[i] = vector\n",
        "        hits += 1\n",
        "    else:\n",
        "        misses += 1\n",
        "print(\"Converted %d words (%d misses)\" % (hits, misses))"
      ],
      "execution_count": 249,
      "outputs": [
        {
          "output_type": "stream",
          "name": "stdout",
          "text": [
            "Converted 15878 words (1218 misses)\n"
          ]
        }
      ]
    },
    {
      "cell_type": "markdown",
      "metadata": {
        "id": "wgp1avfmuFu3"
      },
      "source": [
        "#Modelo"
      ]
    },
    {
      "cell_type": "code",
      "metadata": {
        "colab": {
          "base_uri": "https://localhost:8080/"
        },
        "id": "ffEDuB-ZfWdP",
        "outputId": "84299138-4932-4ef0-9976-4a398fbbd4b2"
      },
      "source": [
        "len_sentence"
      ],
      "execution_count": 234,
      "outputs": [
        {
          "output_type": "execute_result",
          "data": {
            "text/plain": [
              "150"
            ]
          },
          "metadata": {},
          "execution_count": 234
        }
      ]
    },
    {
      "cell_type": "code",
      "metadata": {
        "id": "Vh_sPUyZt29F",
        "colab": {
          "base_uri": "https://localhost:8080/"
        },
        "outputId": "367b24d5-6f04-43ce-cd50-7b2268861dde"
      },
      "source": [
        "adam = Adam(learning_rate=0.005)\n",
        "\n",
        "model = Sequential()\n",
        "model.add(Embedding(vocab_size, 200, input_length=x_train.shape[1], weights=[word_vector_matrix], trainable=False))\n",
        "model.add(Bidirectional(LSTM(256, dropout=0.2,recurrent_dropout=0.2, return_sequences=True)))\n",
        "model.add(Bidirectional(LSTM(128, dropout=0.2,recurrent_dropout=0.2, return_sequences=True)))\n",
        "model.add(Bidirectional(LSTM(128, dropout=0.2,recurrent_dropout=0.2)))\n",
        "model.add(Dense(6, activation='softmax'))\n",
        "\n",
        "#model.add(Embedding(input_dim=vocab_size, output_dim=200, input_length=x_train.shape[1],  weights=[word_vector_matrix], trainable=False))\n",
        "#model.add(Dropout(0.2))\n",
        "#model.add(LSTM(128))\n",
        "#model.add(Dropout(0.2))\n",
        "#model.add(Dense(64, activation=\"sigmoid\"))\n",
        "#model.add(Dropout(0.2))\n",
        "#model.add(Dense(6, activation=\"softmax\"))\n",
        "model.compile(optimizer=adam, loss = \"categorical_crossentropy\", metrics=[\"accuracy\"])\n",
        "model.summary()"
      ],
      "execution_count": 245,
      "outputs": [
        {
          "output_type": "stream",
          "name": "stdout",
          "text": [
            "Model: \"sequential_6\"\n",
            "_________________________________________________________________\n",
            "Layer (type)                 Output Shape              Param #   \n",
            "=================================================================\n",
            "embedding_4 (Embedding)      (None, 256, 200)          3419400   \n",
            "_________________________________________________________________\n",
            "bidirectional (Bidirectional (None, 256, 512)          935936    \n",
            "_________________________________________________________________\n",
            "bidirectional_1 (Bidirection (None, 256, 256)          656384    \n",
            "_________________________________________________________________\n",
            "bidirectional_2 (Bidirection (None, 256)               394240    \n",
            "_________________________________________________________________\n",
            "dense_8 (Dense)              (None, 6)                 1542      \n",
            "=================================================================\n",
            "Total params: 5,407,502\n",
            "Trainable params: 1,988,102\n",
            "Non-trainable params: 3,419,400\n",
            "_________________________________________________________________\n"
          ]
        }
      ]
    },
    {
      "cell_type": "code",
      "metadata": {
        "id": "VlZVGrGuuL5J"
      },
      "source": [
        "# mode = 'min',\n",
        "es = EarlyStopping(monitor = 'val_loss', verbose = 1, patience = 2, restore_best_weights=True)\n",
        "mc = ModelCheckpoint('/content/drive/MyDrive/Universidad/Tesis/model_v6_glove.h5', monitor = 'val_accuracy', mode = 'max', verbose = 1, save_best_only = True)"
      ],
      "execution_count": 247,
      "outputs": []
    },
    {
      "cell_type": "code",
      "metadata": {
        "colab": {
          "base_uri": "https://localhost:8080/"
        },
        "id": "VkGKJFmAvtCB",
        "outputId": "31de50fe-8cb5-4cb6-eda9-95a496ddca94"
      },
      "source": [
        "x_train.dtype\n",
        "x_train.shape"
      ],
      "execution_count": 241,
      "outputs": [
        {
          "output_type": "execute_result",
          "data": {
            "text/plain": [
              "(16000, 256)"
            ]
          },
          "metadata": {},
          "execution_count": 241
        }
      ]
    },
    {
      "cell_type": "code",
      "metadata": {
        "colab": {
          "base_uri": "https://localhost:8080/"
        },
        "id": "cjCdas3yRiAT",
        "outputId": "ed796f6f-893e-44ed-82f4-089c44392743"
      },
      "source": [
        "y_train.dtype\n",
        "y_train.shape"
      ],
      "execution_count": 242,
      "outputs": [
        {
          "output_type": "execute_result",
          "data": {
            "text/plain": [
              "(16000, 6)"
            ]
          },
          "metadata": {},
          "execution_count": 242
        }
      ]
    },
    {
      "cell_type": "code",
      "metadata": {
        "colab": {
          "base_uri": "https://localhost:8080/"
        },
        "id": "H6vvRu1-uXAE",
        "outputId": "cae0f1a8-f58e-4fd3-c212-a96f9efee4b9"
      },
      "source": [
        "hist = model.fit(x_train, y_train, epochs = 10, batch_size = 256, validation_data=(x_test, y_test),verbose = 1, callbacks= [es])"
      ],
      "execution_count": 248,
      "outputs": [
        {
          "output_type": "stream",
          "name": "stdout",
          "text": [
            "Epoch 1/10\n",
            "63/63 [==============================] - 2289s 36s/step - loss: 1.5945 - accuracy: 0.3314 - val_loss: 1.5852 - val_accuracy: 0.3345\n",
            "\n",
            "Epoch 00001: val_accuracy improved from -inf to 0.33450, saving model to /content/drive/MyDrive/Universidad/Tesis/model_v6_glove.h5\n",
            "Epoch 2/10\n",
            "63/63 [==============================] - 2025s 32s/step - loss: 1.5781 - accuracy: 0.3407 - val_loss: 1.5874 - val_accuracy: 0.3225\n",
            "\n",
            "Epoch 00002: val_accuracy did not improve from 0.33450\n",
            "Epoch 3/10\n",
            "63/63 [==============================] - 1986s 32s/step - loss: 1.5546 - accuracy: 0.3761 - val_loss: 1.6569 - val_accuracy: 0.3275\n",
            "Restoring model weights from the end of the best epoch.\n",
            "\n",
            "Epoch 00003: val_accuracy did not improve from 0.33450\n",
            "Epoch 00003: early stopping\n"
          ]
        }
      ]
    },
    {
      "cell_type": "markdown",
      "metadata": {
        "id": "gV_gJwDY-xhP"
      },
      "source": [
        "#Traer el modelo guardado"
      ]
    },
    {
      "cell_type": "code",
      "metadata": {
        "id": "YLbkXvPG-4XB"
      },
      "source": [
        "# Recrea exactamente el mismo modelo solo desde el archivo\n",
        "model = keras.models.load_model('/content/drive/MyDrive/Universidad/Tesis/model_v3.h5')"
      ],
      "execution_count": 165,
      "outputs": []
    },
    {
      "cell_type": "markdown",
      "metadata": {
        "id": "XICGen8G24wa"
      },
      "source": [
        "#Performance metrics"
      ]
    },
    {
      "cell_type": "code",
      "metadata": {
        "colab": {
          "base_uri": "https://localhost:8080/"
        },
        "id": "zVuBGFIN4z7R",
        "outputId": "e12ea980-7496-4d6f-b409-b6231f8c9084"
      },
      "source": [
        "print(\"Evaluate on test data\")\n",
        "results = model.evaluate(x_test, y_test, batch_size=64)\n",
        "print(\"test loss, test acc:\", results)"
      ],
      "execution_count": 169,
      "outputs": [
        {
          "output_type": "stream",
          "name": "stdout",
          "text": [
            "Evaluate on test data\n",
            "59/59 [==============================] - 7s 105ms/step - loss: 3.5541 - accuracy: 0.2007\n",
            "test loss, test acc: [3.5540859699249268, 0.2006911188364029]\n"
          ]
        }
      ]
    },
    {
      "cell_type": "code",
      "metadata": {
        "id": "dMbd46zNDRD_"
      },
      "source": [
        "from sklearn.metrics import confusion_matrix, classification_report"
      ],
      "execution_count": 68,
      "outputs": []
    },
    {
      "cell_type": "code",
      "metadata": {
        "colab": {
          "base_uri": "https://localhost:8080/"
        },
        "id": "q9rGuTCmVoUR",
        "outputId": "c38634fd-84c0-4553-ebce-e3b2749ca26f"
      },
      "source": [
        ""
      ],
      "execution_count": 84,
      "outputs": [
        {
          "output_type": "execute_result",
          "data": {
            "text/plain": [
              "array([4, 4, 4, ..., 4, 4, 4])"
            ]
          },
          "metadata": {},
          "execution_count": 84
        }
      ]
    },
    {
      "cell_type": "code",
      "metadata": {
        "colab": {
          "base_uri": "https://localhost:8080/"
        },
        "id": "rS9Bu53aP9LS",
        "outputId": "bcb00fcd-beaa-4031-f815-e6aa8b906f06"
      },
      "source": [
        "y_test = np.argmax(y_test, axis=1)\n",
        "y_test"
      ],
      "execution_count": 170,
      "outputs": [
        {
          "output_type": "execute_result",
          "data": {
            "text/plain": [
              "array([4, 4, 4, ..., 4, 4, 4])"
            ]
          },
          "metadata": {},
          "execution_count": 170
        }
      ]
    },
    {
      "cell_type": "code",
      "metadata": {
        "colab": {
          "base_uri": "https://localhost:8080/"
        },
        "id": "e2Sft4jZYtSV",
        "outputId": "296ebc4e-a982-4d69-d48e-bf57d25c34b2"
      },
      "source": [
        "y_pred=model.predict(x_test) \n",
        "y_pred=np.argmax(y_pred, axis=1)\n",
        "y_pred"
      ],
      "execution_count": 171,
      "outputs": [
        {
          "output_type": "execute_result",
          "data": {
            "text/plain": [
              "array([0, 0, 4, ..., 0, 0, 0])"
            ]
          },
          "metadata": {},
          "execution_count": 171
        }
      ]
    },
    {
      "cell_type": "code",
      "metadata": {
        "id": "F9e1jrmMqQq1"
      },
      "source": [
        "label2int = {\n",
        "  \"sadness\": 4,\n",
        "  \"joy\": 2,\n",
        "  \"love\":3,\n",
        "  \"anger\": 0,\n",
        "  \"fear\": 1,\n",
        "  \"surprise\": 5\n",
        "}"
      ],
      "execution_count": 172,
      "outputs": []
    },
    {
      "cell_type": "code",
      "metadata": {
        "colab": {
          "base_uri": "https://localhost:8080/"
        },
        "id": "er5sGab_F02P",
        "outputId": "59e0291b-05e2-43ee-eb25-442717e8a7ac"
      },
      "source": [
        "print('Confusion Matrix')\n",
        "print(classification_report(y_test, y_pred, target_names=label2int.keys()))"
      ],
      "execution_count": 173,
      "outputs": [
        {
          "output_type": "stream",
          "name": "stdout",
          "text": [
            "Confusion Matrix\n",
            "              precision    recall  f1-score   support\n",
            "\n",
            "     sadness       0.21      0.73      0.32       775\n",
            "         joy       0.06      0.03      0.04       325\n",
            "        love       0.21      0.06      0.10       695\n",
            "       anger       0.12      0.00      0.00       397\n",
            "        fear       0.21      0.17      0.19       781\n",
            "    surprise       0.00      0.00      0.00       789\n",
            "\n",
            "    accuracy                           0.20      3762\n",
            "   macro avg       0.14      0.17      0.11      3762\n",
            "weighted avg       0.14      0.20      0.13      3762\n",
            "\n"
          ]
        },
        {
          "output_type": "stream",
          "name": "stderr",
          "text": [
            "/usr/local/lib/python3.7/dist-packages/sklearn/metrics/_classification.py:1272: UndefinedMetricWarning: Precision and F-score are ill-defined and being set to 0.0 in labels with no predicted samples. Use `zero_division` parameter to control this behavior.\n",
            "  _warn_prf(average, modifier, msg_start, len(result))\n"
          ]
        }
      ]
    },
    {
      "cell_type": "code",
      "metadata": {
        "id": "cjxn5_IWhB-g"
      },
      "source": [
        "from sklearn.metrics import ConfusionMatrixDisplay"
      ],
      "execution_count": 73,
      "outputs": []
    },
    {
      "cell_type": "code",
      "metadata": {
        "colab": {
          "base_uri": "https://localhost:8080/",
          "height": 606
        },
        "id": "FMlCO4mbzd_w",
        "outputId": "9223c5f7-5724-422a-de1d-d5e18e73b796"
      },
      "source": [
        "cm = confusion_matrix(y_test, y_pred)\n",
        "\n",
        "disp = ConfusionMatrixDisplay(confusion_matrix=cm,\n",
        "                              display_labels=np.asarray([0,1,2,3,4,5]))\n",
        "\n",
        "\n",
        "# NOTE: Fill all variables here with default values of the plot_confusion_matrix\n",
        "fig, ax = plt.subplots(figsize=(30, 10))\n",
        "disp = disp.plot(ax=ax)\n",
        "plt.show()"
      ],
      "execution_count": 146,
      "outputs": [
        {
          "output_type": "display_data",
          "data": {
            "image/png": "[encoded data removed]",
            "text/plain": [
              "<Figure size 2160x720 with 2 Axes>"
            ]
          },
          "metadata": {
            "needs_background": "light"
          }
        }
      ]
    },
    {
      "cell_type": "code",
      "metadata": {
        "colab": {
          "base_uri": "https://localhost:8080/"
        },
        "id": "bijvySqqgM4o",
        "outputId": "74eb0d35-074f-4d3d-fef8-a2f85b5b946a"
      },
      "source": [
        "x_test"
      ],
      "execution_count": null,
      "outputs": [
        {
          "output_type": "execute_result",
          "data": {
            "text/plain": [
              "array([[   0,    0,    0, ..., 7128, 3891, 4794],\n",
              "       [   0,    0,    0, ..., 3963, 4900, 2805],\n",
              "       [   0,    0,    0, ..., 4900, 5795, 6604],\n",
              "       ...,\n",
              "       [   0,    0,    0, ..., 1162, 4900, 7227],\n",
              "       [   0,    0,    0, ..., 3083, 3505, 7516],\n",
              "       [   0,    0,    0, ..., 4859, 4859, 5494]], dtype=int32)"
            ]
          },
          "metadata": {},
          "execution_count": 116
        }
      ]
    },
    {
      "cell_type": "markdown",
      "metadata": {
        "id": "sNACVszzgP5O"
      },
      "source": [
        "#Emotion prediction"
      ]
    },
    {
      "cell_type": "code",
      "metadata": {
        "id": "tHulZZXERW2J"
      },
      "source": [
        "em = [\"anger\", \"fear\", \"joy\",\"love\", \"sadness\", \"surprise\"]"
      ],
      "execution_count": 75,
      "outputs": []
    },
    {
      "cell_type": "code",
      "metadata": {
        "id": "GB6pQKVZgLQw"
      },
      "source": [
        "def emotion_prediction(text, model):\n",
        "  one_hot_rep = [one_hot(input_text=text, n=vocab_size)]\n",
        "  embeddec_text = pad_sequences(one_hot_rep, maxlen=len_sentence, padding=\"pre\")\n",
        "  prediction = model.predict(embeddec_text)\n",
        "  print(prediction)\n",
        "  classe =np.argmax(prediction,axis=1)\n",
        "  return em[classe[0]]"
      ],
      "execution_count": 149,
      "outputs": []
    },
    {
      "cell_type": "code",
      "metadata": {
        "colab": {
          "base_uri": "https://localhost:8080/",
          "height": 72
        },
        "id": "oZHxAW9XqJry",
        "outputId": "5a96d866-024e-4df3-8ac5-e187b29a8021"
      },
      "source": [
        "emotion_prediction(\"He's over the moon about being accepted to the university\", model)"
      ],
      "execution_count": 174,
      "outputs": [
        {
          "output_type": "stream",
          "name": "stdout",
          "text": [
            "[[8.2407522e-01 1.6471377e-02 1.3372291e-02 1.6353491e-03 1.4370266e-01\n",
            "  7.4303680e-04]]\n"
          ]
        },
        {
          "output_type": "execute_result",
          "data": {
            "application/vnd.google.colaboratory.intrinsic+json": {
              "type": "string"
            },
            "text/plain": [
              "'anger'"
            ]
          },
          "metadata": {},
          "execution_count": 174
        }
      ]
    },
    {
      "cell_type": "code",
      "metadata": {
        "id": "EHp5jgc9qOXs"
      },
      "source": [
        ""
      ],
      "execution_count": null,
      "outputs": []
    }
  ]
}